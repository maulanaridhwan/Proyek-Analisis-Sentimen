{
 "cells": [
  {
   "cell_type": "markdown",
   "id": "5709b87c-6890-43f9-9083-69f02b4e0ff3",
   "metadata": {},
   "source": [
    "# [Scraping] Proyek Analisis Sentimen: Aplikasi Play Store Bumble "
   ]
  },
  {
   "cell_type": "markdown",
   "id": "e2b54416-2e02-48be-8ad7-bee738f8896d",
   "metadata": {},
   "source": [
    "## 1. Import Library"
   ]
  },
  {
   "cell_type": "code",
   "execution_count": 8,
   "id": "b2a63c74-8f3e-4edb-9d70-c1d67928b143",
   "metadata": {},
   "outputs": [],
   "source": [
    "from google_play_scraper import reviews, Sort\n",
    "import pandas as pd"
   ]
  },
  {
   "cell_type": "markdown",
   "id": "32168416-1b3b-4494-9e9b-ee5e6ef957c9",
   "metadata": {},
   "source": [
    "## 2. Scraping APK"
   ]
  },
  {
   "cell_type": "code",
   "execution_count": 2,
   "id": "70e15b96-6474-45b2-8c81-308dba7d14e0",
   "metadata": {},
   "outputs": [],
   "source": [
    "app_id = 'com.bumble.app' \n",
    "all_reviews = []\n",
    "\n",
    "# Looping untuk mengumpulkan 30.000 review (100 iterasi x 300 review)\n",
    "for i in range(100):\n",
    "    r, _ = reviews(\n",
    "        app_id,\n",
    "        lang='id',\n",
    "        country='id',\n",
    "        sort=Sort.MOST_RELEVANT,\n",
    "        count=300\n",
    "    )\n",
    "    all_reviews.extend(r)"
   ]
  },
  {
   "cell_type": "code",
   "execution_count": 3,
   "id": "896eece8-cce2-4478-be42-016ae07568a8",
   "metadata": {},
   "outputs": [],
   "source": [
    "# Simpan df\n",
    "df = pd.DataFrame(all_reviews)\n",
    "df.to_csv('bumble_reviews.csv', index=False, encoding='utf-8')"
   ]
  },
  {
   "cell_type": "code",
   "execution_count": 4,
   "id": "20882352-1253-413a-b170-e4be2b977e6d",
   "metadata": {},
   "outputs": [
    {
     "data": {
      "text/html": [
       "<div>\n",
       "<style scoped>\n",
       "    .dataframe tbody tr th:only-of-type {\n",
       "        vertical-align: middle;\n",
       "    }\n",
       "\n",
       "    .dataframe tbody tr th {\n",
       "        vertical-align: top;\n",
       "    }\n",
       "\n",
       "    .dataframe thead th {\n",
       "        text-align: right;\n",
       "    }\n",
       "</style>\n",
       "<table border=\"1\" class=\"dataframe\">\n",
       "  <thead>\n",
       "    <tr style=\"text-align: right;\">\n",
       "      <th></th>\n",
       "      <th>reviewId</th>\n",
       "      <th>userName</th>\n",
       "      <th>userImage</th>\n",
       "      <th>content</th>\n",
       "      <th>score</th>\n",
       "      <th>thumbsUpCount</th>\n",
       "      <th>reviewCreatedVersion</th>\n",
       "      <th>at</th>\n",
       "      <th>replyContent</th>\n",
       "      <th>repliedAt</th>\n",
       "      <th>appVersion</th>\n",
       "    </tr>\n",
       "  </thead>\n",
       "  <tbody>\n",
       "    <tr>\n",
       "      <th>29995</th>\n",
       "      <td>8757b390-18ee-4ef0-94a5-ac25d5d8ebf0</td>\n",
       "      <td>Devin Jonathan</td>\n",
       "      <td>https://play-lh.googleusercontent.com/a-/ALV-U...</td>\n",
       "      <td>Hai pihak bumble, ini aplikasi sangat bagus te...</td>\n",
       "      <td>5</td>\n",
       "      <td>21</td>\n",
       "      <td>5.235.0</td>\n",
       "      <td>2021-09-09 14:36:12</td>\n",
       "      <td>Halo, kami akan dengan senang hati membantu me...</td>\n",
       "      <td>2021-09-09 22:01:19</td>\n",
       "      <td>5.235.0</td>\n",
       "    </tr>\n",
       "    <tr>\n",
       "      <th>29996</th>\n",
       "      <td>66f564e6-4f82-4377-92a1-bf9c7eb0f4cf</td>\n",
       "      <td>Zaenab Fikron Nisa</td>\n",
       "      <td>https://play-lh.googleusercontent.com/a-/ALV-U...</td>\n",
       "      <td>Tiba tiba ke logout, pas mau masuk lagi masak ...</td>\n",
       "      <td>5</td>\n",
       "      <td>9</td>\n",
       "      <td>5.251.2</td>\n",
       "      <td>2022-01-10 17:58:19</td>\n",
       "      <td>Halo, kami akan dengan senang hati membantu me...</td>\n",
       "      <td>2022-01-10 21:22:26</td>\n",
       "      <td>5.251.2</td>\n",
       "    </tr>\n",
       "    <tr>\n",
       "      <th>29997</th>\n",
       "      <td>66e15dde-eaa9-4964-b578-088a7c47cbbd</td>\n",
       "      <td>Yaa Aya</td>\n",
       "      <td>https://play-lh.googleusercontent.com/a/ACg8oc...</td>\n",
       "      <td>Kok bisa bayar sendiri?padahal ga mau transaks...</td>\n",
       "      <td>1</td>\n",
       "      <td>1</td>\n",
       "      <td>None</td>\n",
       "      <td>2024-12-25 13:14:42</td>\n",
       "      <td>None</td>\n",
       "      <td>NaT</td>\n",
       "      <td>None</td>\n",
       "    </tr>\n",
       "    <tr>\n",
       "      <th>29998</th>\n",
       "      <td>aa34c2b4-28e7-462b-be98-fc404a7cb4ea</td>\n",
       "      <td>RexXome</td>\n",
       "      <td>https://play-lh.googleusercontent.com/a-/ALV-U...</td>\n",
       "      <td>gabisa login, coba fitur call gaada yg masuk, ...</td>\n",
       "      <td>1</td>\n",
       "      <td>0</td>\n",
       "      <td>None</td>\n",
       "      <td>2024-10-28 16:26:40</td>\n",
       "      <td>None</td>\n",
       "      <td>NaT</td>\n",
       "      <td>None</td>\n",
       "    </tr>\n",
       "    <tr>\n",
       "      <th>29999</th>\n",
       "      <td>36556e89-d552-4e87-8a12-5595d8e077d9</td>\n",
       "      <td>lingga al kautsar</td>\n",
       "      <td>https://play-lh.googleusercontent.com/a/ACg8oc...</td>\n",
       "      <td>aplikasi sampah, limit buat gratisan gak otak ...</td>\n",
       "      <td>1</td>\n",
       "      <td>27</td>\n",
       "      <td>5.389.0</td>\n",
       "      <td>2024-10-20 13:54:12</td>\n",
       "      <td>None</td>\n",
       "      <td>NaT</td>\n",
       "      <td>5.389.0</td>\n",
       "    </tr>\n",
       "  </tbody>\n",
       "</table>\n",
       "</div>"
      ],
      "text/plain": [
       "                                   reviewId            userName  \\\n",
       "29995  8757b390-18ee-4ef0-94a5-ac25d5d8ebf0      Devin Jonathan   \n",
       "29996  66f564e6-4f82-4377-92a1-bf9c7eb0f4cf  Zaenab Fikron Nisa   \n",
       "29997  66e15dde-eaa9-4964-b578-088a7c47cbbd             Yaa Aya   \n",
       "29998  aa34c2b4-28e7-462b-be98-fc404a7cb4ea             RexXome   \n",
       "29999  36556e89-d552-4e87-8a12-5595d8e077d9   lingga al kautsar   \n",
       "\n",
       "                                               userImage  \\\n",
       "29995  https://play-lh.googleusercontent.com/a-/ALV-U...   \n",
       "29996  https://play-lh.googleusercontent.com/a-/ALV-U...   \n",
       "29997  https://play-lh.googleusercontent.com/a/ACg8oc...   \n",
       "29998  https://play-lh.googleusercontent.com/a-/ALV-U...   \n",
       "29999  https://play-lh.googleusercontent.com/a/ACg8oc...   \n",
       "\n",
       "                                                 content  score  \\\n",
       "29995  Hai pihak bumble, ini aplikasi sangat bagus te...      5   \n",
       "29996  Tiba tiba ke logout, pas mau masuk lagi masak ...      5   \n",
       "29997  Kok bisa bayar sendiri?padahal ga mau transaks...      1   \n",
       "29998  gabisa login, coba fitur call gaada yg masuk, ...      1   \n",
       "29999  aplikasi sampah, limit buat gratisan gak otak ...      1   \n",
       "\n",
       "       thumbsUpCount reviewCreatedVersion                  at  \\\n",
       "29995             21              5.235.0 2021-09-09 14:36:12   \n",
       "29996              9              5.251.2 2022-01-10 17:58:19   \n",
       "29997              1                 None 2024-12-25 13:14:42   \n",
       "29998              0                 None 2024-10-28 16:26:40   \n",
       "29999             27              5.389.0 2024-10-20 13:54:12   \n",
       "\n",
       "                                            replyContent           repliedAt  \\\n",
       "29995  Halo, kami akan dengan senang hati membantu me... 2021-09-09 22:01:19   \n",
       "29996  Halo, kami akan dengan senang hati membantu me... 2022-01-10 21:22:26   \n",
       "29997                                               None                 NaT   \n",
       "29998                                               None                 NaT   \n",
       "29999                                               None                 NaT   \n",
       "\n",
       "      appVersion  \n",
       "29995    5.235.0  \n",
       "29996    5.251.2  \n",
       "29997       None  \n",
       "29998       None  \n",
       "29999    5.389.0  "
      ]
     },
     "execution_count": 4,
     "metadata": {},
     "output_type": "execute_result"
    }
   ],
   "source": [
    "df.tail()"
   ]
  },
  {
   "cell_type": "code",
   "execution_count": 5,
   "id": "337af5bc-14c5-4a05-b32e-4715e5506205",
   "metadata": {},
   "outputs": [
    {
     "name": "stdout",
     "output_type": "stream",
     "text": [
      "<class 'pandas.core.frame.DataFrame'>\n",
      "RangeIndex: 30000 entries, 0 to 29999\n",
      "Data columns (total 11 columns):\n",
      " #   Column                Non-Null Count  Dtype         \n",
      "---  ------                --------------  -----         \n",
      " 0   reviewId              30000 non-null  object        \n",
      " 1   userName              30000 non-null  object        \n",
      " 2   userImage             30000 non-null  object        \n",
      " 3   content               30000 non-null  object        \n",
      " 4   score                 30000 non-null  int64         \n",
      " 5   thumbsUpCount         30000 non-null  int64         \n",
      " 6   reviewCreatedVersion  23700 non-null  object        \n",
      " 7   at                    30000 non-null  datetime64[ns]\n",
      " 8   replyContent          15900 non-null  object        \n",
      " 9   repliedAt             15900 non-null  datetime64[ns]\n",
      " 10  appVersion            23700 non-null  object        \n",
      "dtypes: datetime64[ns](2), int64(2), object(7)\n",
      "memory usage: 2.5+ MB\n"
     ]
    }
   ],
   "source": [
    "df.info()"
   ]
  },
  {
   "cell_type": "code",
   "execution_count": null,
   "id": "3a004781-9c7d-4fdf-bfd1-6ff58af9817e",
   "metadata": {},
   "outputs": [],
   "source": []
  }
 ],
 "metadata": {
  "kernelspec": {
   "display_name": "Python 3 (ipykernel)",
   "language": "python",
   "name": "python3"
  },
  "language_info": {
   "codemirror_mode": {
    "name": "ipython",
    "version": 3
   },
   "file_extension": ".py",
   "mimetype": "text/x-python",
   "name": "python",
   "nbconvert_exporter": "python",
   "pygments_lexer": "ipython3",
   "version": "3.10.5"
  }
 },
 "nbformat": 4,
 "nbformat_minor": 5
}
